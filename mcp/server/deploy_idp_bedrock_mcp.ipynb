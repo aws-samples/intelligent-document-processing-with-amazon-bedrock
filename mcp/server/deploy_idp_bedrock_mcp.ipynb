{
 "cells": [
  {
   "cell_type": "markdown",
   "metadata": {},
   "source": [
    "# Deploy IDP with Amazon Bedrock MCP Server to Amazon Bedrock AgentCore Runtime\n",
    "\n",
    "This notebook deploys the IDP with Amazon Bedrock document attribute extraction system as an MCP server using Amazon Bedrock AgentCore Runtime.\n",
    "\n",
    "## Overview\n",
    "\n",
    "The IDP with Amazon Bedrock MCP Server exposes the existing IDP functionality (document attribute extraction) as MCP tools that can be used by any MCP-compatible client or AI agent.\n",
    "\n",
    "### Key Features\n",
    "- **Reuses existing infrastructure**: Leverages deployed Step Functions and S3 bucket\n",
    "- **Existing Cognito integration**: Uses the current Cognito user pool for authentication\n",
    "- **MCP-compliant tools**: Provides standardized MCP interface for document processing\n",
    "- **Fully managed**: Hosted on AgentCore Runtime with automatic scaling\n",
    "\n",
    "### MCP Tools Provided\n",
    "1. **`extract_document_attributes`**: Main tool for document attribute extraction\n",
    "2. **`get_extraction_status`**: Check status of long-running extractions\n",
    "3. **`list_supported_models`**: Get available Bedrock models\n",
    "4. **`get_bucket_info`**: Information about S3 bucket and supported formats\n",
    "\n",
    "## Prerequisites\n",
    "\n",
    "- IDP with Amazon Bedrock project deployed with Step Functions and Cognito\n",
    "- AWS credentials configured\n",
    "- Python 3.10+\n",
    "- Docker running (for AgentCore Runtime deployment)"
   ]
  },
  {
   "cell_type": "markdown",
   "metadata": {},
   "source": [
    "## Step 1: Install Dependencies"
   ]
  },
  {
   "cell_type": "code",
   "execution_count": 2,
   "metadata": {},
   "outputs": [
    {
     "name": "stdout",
     "output_type": "stream",
     "text": [
      "\u001b[2mUsing Python 3.13.3 environment at: /Users/egorkr/Projects/IDP/.venv\u001b[0m\n",
      "\u001b[2mAudited \u001b[1m4 packages\u001b[0m \u001b[2min 48ms\u001b[0m\u001b[0m\n"
     ]
    }
   ],
   "source": [
    "# Install required packages\n",
    "!uv pip install bedrock-agentcore-starter-toolkit boto3 mcp fastmcp"
   ]
  },
  {
   "cell_type": "markdown",
   "metadata": {},
   "source": [
    "## Step 2: Import Dependencies and Setup"
   ]
  },
  {
   "cell_type": "code",
   "execution_count": 3,
   "metadata": {},
   "outputs": [
    {
     "name": "stdout",
     "output_type": "stream",
     "text": [
      "Using AWS region: us-east-1\n"
     ]
    }
   ],
   "source": [
    "import os\n",
    "import time\n",
    "from boto3.session import Session\n",
    "\n",
    "# Import our utility functions\n",
    "from utils import (\n",
    "    get_existing_cognito_config,\n",
    "    get_existing_infrastructure_config,\n",
    "    create_mcp_user_in_existing_pool,\n",
    "    create_agentcore_role,\n",
    "    store_mcp_configuration,\n",
    ")\n",
    "\n",
    "# Get AWS region\n",
    "boto_session = Session()\n",
    "region = boto_session.region_name\n",
    "print(f\"Using AWS region: {region}\")"
   ]
  },
  {
   "cell_type": "markdown",
   "metadata": {},
   "source": [
    "## Step 3: Verify Existing Infrastructure\n",
    "\n",
    "First, let's verify that the IDP project is deployed and we can access the existing resources."
   ]
  },
  {
   "cell_type": "code",
   "execution_count": 4,
   "metadata": {},
   "outputs": [
    {
     "name": "stdout",
     "output_type": "stream",
     "text": [
      "🔍 Checking existing IDP infrastructure...\n",
      "============================================================\n",
      "✅ Found existing Cognito configuration:\n",
      "   User Pool ID: us-east-1_q5PSP2NkZ\n",
      "   Client ID: 3g145h569975hdcg68onjeo42h\n",
      "   Domain: idp-bedrock-471112811980.auth.us-east-1.amazoncognito.com\n",
      "   Discovery URL: https://cognito-idp.us-east-1.amazonaws.com/us-east-1_q5PSP2NkZ/.well-known/openid-configuration\n",
      "\n",
      "============================================================\n",
      "✅ Found Step Functions: arn:aws:states:us-east-1:471112811980:stateMachine:idp-bedrock-StepFunctions\n",
      "✅ Found S3 bucket: idp-bedrock-data-471112811980\n",
      "\n",
      "✅ All existing infrastructure verified!\n"
     ]
    }
   ],
   "source": [
    "print(\"🔍 Checking existing IDP infrastructure...\")\n",
    "print(\"=\" * 60)\n",
    "\n",
    "# Get existing Cognito configuration\n",
    "cognito_config = get_existing_cognito_config()\n",
    "if not cognito_config:\n",
    "    raise Exception(\"Could not find existing Cognito configuration. Make sure IDP project is deployed.\")\n",
    "\n",
    "print(\"\\n\" + \"=\" * 60)\n",
    "\n",
    "# Get existing infrastructure configuration\n",
    "infra_config = get_existing_infrastructure_config()\n",
    "if not infra_config:\n",
    "    raise Exception(\"Could not find existing infrastructure. Make sure IDP project is deployed.\")\n",
    "\n",
    "print(\"\\n✅ All existing infrastructure verified!\")"
   ]
  },
  {
   "cell_type": "markdown",
   "metadata": {},
   "source": [
    "## Step 4: Use Existing Cognito User\n",
    "\n",
    "We'll use an existing user from the Cognito user pool for MCP access."
   ]
  },
  {
   "cell_type": "code",
   "execution_count": 5,
   "metadata": {},
   "outputs": [
    {
     "name": "stdout",
     "output_type": "stream",
     "text": [
      "👤 Using existing user from Cognito pool...\n",
      "============================================================\n",
      "⚠️  Password required for user: egorkr@amazon.co.uk\n",
      "Please provide the password for this user, or set a new one in Cognito console\n",
      "✅ Successfully authenticated user: egorkr@amazon.co.uk\n",
      "✅ Generated bearer token for MCP access\n",
      "\n",
      "✅ User authenticated successfully!\n",
      "Username: egorkr@amazon.co.uk\n"
     ]
    }
   ],
   "source": [
    "print(\"👤 Using existing user from Cognito pool...\")\n",
    "print(\"=\" * 60)\n",
    "\n",
    "# Use existing user (from config.yml: egorkr@amazon.co.uk)\n",
    "# You'll be prompted for the password\n",
    "mcp_user_config = create_mcp_user_in_existing_pool(\n",
    "    cognito_config=cognito_config,\n",
    "    username=\"egorkr@amazon.co.uk\",  # This should match the user from config.yml\n",
    "    password=None,  # Will prompt for password\n",
    ")\n",
    "\n",
    "if not mcp_user_config:\n",
    "    raise Exception(\"Failed to authenticate existing user\")\n",
    "\n",
    "print(\"\\n✅ User authenticated successfully!\")\n",
    "print(f\"Username: {mcp_user_config['username']}\")"
   ]
  },
  {
   "cell_type": "markdown",
   "metadata": {},
   "source": [
    "## Step 5: Create IAM Role for AgentCore Runtime\n",
    "\n",
    "Create an IAM role with permissions to access the IDP resources (Step Functions, S3, Bedrock)."
   ]
  },
  {
   "cell_type": "code",
   "execution_count": 6,
   "metadata": {},
   "outputs": [
    {
     "name": "stdout",
     "output_type": "stream",
     "text": [
      "🔐 Creating IAM role for AgentCore Runtime...\n",
      "============================================================\n",
      "ℹ️  Role agentcore-IDPagent-role already exists, recreating...\n",
      "✅ Recreated IAM role: agentcore-IDPagent-role\n",
      "✅ Attached policy to role: agentcore-IDPagent-role\n",
      "\n",
      "✅ IAM role created successfully!\n",
      "Role ARN: arn:aws:iam::471112811980:role/agentcore-IDPagent-role\n"
     ]
    }
   ],
   "source": [
    "print(\"🔐 Creating IAM role for AgentCore Runtime...\")\n",
    "print(\"=\" * 60)\n",
    "\n",
    "# Create IAM role\n",
    "agentcore_iam_role = create_agentcore_role(agent_name=\"IDPagent\")\n",
    "\n",
    "print(\"\\n✅ IAM role created successfully!\")\n",
    "print(f\"Role ARN: {agentcore_iam_role['Role']['Arn']}\")"
   ]
  },
  {
   "cell_type": "markdown",
   "metadata": {},
   "source": [
    "## Step 6: Configure AgentCore Runtime Deployment\n",
    "\n",
    "Configure the AgentCore Runtime with our MCP server and authentication. The MCP server will automatically discover the infrastructure configuration."
   ]
  },
  {
   "cell_type": "code",
   "execution_count": 7,
   "metadata": {},
   "outputs": [
    {
     "name": "stderr",
     "output_type": "stream",
     "text": [
      "Entrypoint parsed: file=/Users/egorkr/Projects/IDP/mcp_deploy/IDP_mcp_server/mcp_server.py, bedrock_agentcore_name=mcp_server\n",
      "Configuring BedrockAgentCore agent: IDPagent\n"
     ]
    },
    {
     "name": "stdout",
     "output_type": "stream",
     "text": [
      "⚙️  Configuring AgentCore Runtime deployment...\n",
      "============================================================\n",
      "✅ All required files found\n",
      "🔧 Configuring runtime...\n",
      "   Infrastructure will be discovered automatically by the MCP server\n",
      "   Expected State Machine: arn:aws:states:us-east-1:471112811980:stateMachine:idp-bedrock-StepFunctions\n",
      "   Expected S3 Bucket: idp-bedrock-data-471112811980\n"
     ]
    },
    {
     "data": {
      "text/html": [
       "<pre style=\"white-space:pre;overflow-x:auto;line-height:normal;font-family:Menlo,'DejaVu Sans Mono',consolas,'Courier New',monospace\">\n",
       "<span style=\"color: #808000; text-decoration-color: #808000; font-weight: bold; text-decoration: underline\">⚠️  ℹ️  No container engine found (Docker/Finch/Podman not installed)</span>\n",
       "<span style=\"color: #808000; text-decoration-color: #808000; font-weight: bold; text-decoration: underline\">✅ Default deployment uses CodeBuild (no container engine needed)</span>\n",
       "<span style=\"color: #808000; text-decoration-color: #808000; font-weight: bold; text-decoration: underline\">💡 Run </span><span style=\"color: #008000; text-decoration-color: #008000; text-decoration: underline\">'agentcore launch'</span><span style=\"color: #808000; text-decoration-color: #808000; font-weight: bold; text-decoration: underline\"> for cloud-based building and deployment</span>\n",
       "<span style=\"color: #808000; text-decoration-color: #808000; font-weight: bold; text-decoration: underline\">💡 For local builds, install Docker, Finch, or Podman</span>\n",
       "</pre>\n"
      ],
      "text/plain": [
       "\n",
       "\u001b[1;4;33m⚠️  ℹ️  No container engine found \u001b[0m\u001b[1;4;33m(\u001b[0m\u001b[1;4;33mDocker/Finch/Podman not installed\u001b[0m\u001b[1;4;33m)\u001b[0m\n",
       "\u001b[1;4;33m✅ Default deployment uses CodeBuild \u001b[0m\u001b[1;4;33m(\u001b[0m\u001b[1;4;33mno container engine needed\u001b[0m\u001b[1;4;33m)\u001b[0m\n",
       "\u001b[1;4;33m💡 Run \u001b[0m\u001b[4;32m'agentcore launch'\u001b[0m\u001b[1;4;33m for cloud-based building and deployment\u001b[0m\n",
       "\u001b[1;4;33m💡 For local builds, install Docker, Finch, or Podman\u001b[0m\n"
      ]
     },
     "metadata": {},
     "output_type": "display_data"
    },
    {
     "name": "stderr",
     "output_type": "stream",
     "text": [
      "Generated Dockerfile: /Users/egorkr/Projects/IDP/mcp_deploy/IDP_mcp_server/Dockerfile\n",
      "Generated .dockerignore: /Users/egorkr/Projects/IDP/mcp_deploy/IDP_mcp_server/.dockerignore\n",
      "Keeping 'IDPagent' as default agent\n",
      "Bedrock AgentCore configured: /Users/egorkr/Projects/IDP/mcp_deploy/IDP_mcp_server/.bedrock_agentcore.yaml\n"
     ]
    },
    {
     "name": "stdout",
     "output_type": "stream",
     "text": [
      "✅ AgentCore Runtime configured successfully!\n"
     ]
    }
   ],
   "source": [
    "from bedrock_agentcore_starter_toolkit import Runtime\n",
    "\n",
    "print(\"⚙️  Configuring AgentCore Runtime deployment...\")\n",
    "print(\"=\" * 60)\n",
    "\n",
    "# Verify required files exist\n",
    "required_files = [\"mcp_server.py\", \"requirements.txt\"]\n",
    "for file in required_files:\n",
    "    if not os.path.exists(file):\n",
    "        raise FileNotFoundError(f\"Required file {file} not found\")\n",
    "print(\"✅ All required files found\")\n",
    "\n",
    "# Initialize AgentCore Runtime\n",
    "agentcore_runtime = Runtime()\n",
    "\n",
    "# Configure authentication with existing Cognito\n",
    "auth_config = {\n",
    "    \"customJWTAuthorizer\": {\n",
    "        \"allowedClients\": [cognito_config[\"client_id\"]],\n",
    "        \"discoveryUrl\": cognito_config[\"discovery_url\"],\n",
    "    }\n",
    "}\n",
    "\n",
    "print(\"🔧 Configuring runtime...\")\n",
    "print(\"   Infrastructure will be discovered automatically by the MCP server\")\n",
    "print(f\"   Expected State Machine: {infra_config['state_machine_arn']}\")\n",
    "print(f\"   Expected S3 Bucket: {infra_config['bucket_name']}\")\n",
    "\n",
    "response = agentcore_runtime.configure(\n",
    "    entrypoint=\"mcp_server.py\",\n",
    "    execution_role=agentcore_iam_role[\"Role\"][\"Arn\"],\n",
    "    auto_create_ecr=True,\n",
    "    requirements_file=\"requirements.txt\",\n",
    "    region=region,\n",
    "    authorizer_configuration=auth_config,\n",
    "    protocol=\"MCP\",\n",
    "    agent_name=\"IDPagent\",\n",
    ")\n",
    "\n",
    "print(\"✅ AgentCore Runtime configured successfully!\")"
   ]
  },
  {
   "cell_type": "markdown",
   "metadata": {},
   "source": [
    "## Step 7: Launch MCP Server to AgentCore Runtime\n",
    "\n",
    "Deploy the MCP server to AWS. This will create the ECR repository, build the Docker image, and deploy to AgentCore Runtime."
   ]
  },
  {
   "cell_type": "code",
   "execution_count": 8,
   "metadata": {},
   "outputs": [
    {
     "name": "stderr",
     "output_type": "stream",
     "text": [
      "🚀 CodeBuild mode: building in cloud (RECOMMENDED - DEFAULT)\n",
      "   • Build ARM64 containers in the cloud with CodeBuild\n",
      "   • No local Docker required\n",
      "💡 Available deployment modes:\n",
      "   • runtime.launch()                           → CodeBuild (current)\n",
      "   • runtime.launch(local=True)                 → Local development\n",
      "   • runtime.launch(local_build=True)           → Local build + cloud deploy (NEW)\n",
      "Starting CodeBuild ARM64 deployment for agent 'IDPagent' to account 471112811980 (us-east-1)\n",
      "Starting CodeBuild ARM64 deployment for agent 'IDPagent' to account 471112811980 (us-east-1)\n",
      "Setting up AWS resources (ECR repository, execution roles)...\n",
      "Getting or creating ECR repository for agent: IDPagent\n"
     ]
    },
    {
     "name": "stdout",
     "output_type": "stream",
     "text": [
      "🚀 Launching IDP with Amazon Bedrock MCP Server to AgentCore Runtime...\n",
      "============================================================\n",
      "⏳ This may take several minutes...\n"
     ]
    },
    {
     "name": "stderr",
     "output_type": "stream",
     "text": [
      "✅ ECR repository available: 471112811980.dkr.ecr.us-east-1.amazonaws.com/bedrock-agentcore-IDPagent\n",
      "Using execution role from config: arn:aws:iam::471112811980:role/agentcore-IDPagent-role\n"
     ]
    },
    {
     "name": "stdout",
     "output_type": "stream",
     "text": [
      "✅ Reusing existing ECR repository: 471112811980.dkr.ecr.us-east-1.amazonaws.com/bedrock-agentcore-IDPagent\n"
     ]
    },
    {
     "name": "stderr",
     "output_type": "stream",
     "text": [
      "✅ Execution role validation passed: arn:aws:iam::471112811980:role/agentcore-IDPagent-role\n",
      "Preparing CodeBuild project and uploading source...\n",
      "Getting or creating CodeBuild execution role for agent: IDPagent\n",
      "Role name: AmazonBedrockAgentCoreSDKCodeBuild-us-east-1-167ce93a9b\n",
      "Reusing existing CodeBuild execution role: arn:aws:iam::471112811980:role/AmazonBedrockAgentCoreSDKCodeBuild-us-east-1-167ce93a9b\n",
      "Using .dockerignore with 44 patterns\n",
      "Uploaded source to S3: IDPagent/20250802-231035.zip\n",
      "Updated CodeBuild project: bedrock-agentcore-IDPagent-builder\n",
      "Starting CodeBuild build (this may take several minutes)...\n",
      "Starting CodeBuild monitoring...\n",
      "🔄 QUEUED started (total: 0s)\n",
      "✅ QUEUED completed in 5.1s\n",
      "🔄 PROVISIONING started (total: 5s)\n",
      "✅ PROVISIONING completed in 10.3s\n",
      "🔄 PRE_BUILD started (total: 16s)\n",
      "✅ PRE_BUILD completed in 10.3s\n",
      "🔄 BUILD started (total: 26s)\n",
      "✅ BUILD completed in 36.0s\n",
      "🔄 POST_BUILD started (total: 62s)\n",
      "✅ POST_BUILD completed in 5.2s\n",
      "🔄 COMPLETED started (total: 67s)\n",
      "✅ COMPLETED completed in 5.2s\n",
      "🎉 CodeBuild completed successfully in 1m 12s\n",
      "CodeBuild completed successfully\n",
      "✅ CodeBuild project configuration saved\n",
      "Deploying to Bedrock AgentCore...\n",
      "✅ Agent created/updated: arn:aws:bedrock-agentcore:us-east-1:471112811980:runtime/IDPagent-1fcZqaBeRk\n",
      "Polling for endpoint to be ready...\n",
      "Agent endpoint: arn:aws:bedrock-agentcore:us-east-1:471112811980:runtime/IDPagent-1fcZqaBeRk/runtime-endpoint/DEFAULT\n",
      "Deployment completed successfully - Agent: arn:aws:bedrock-agentcore:us-east-1:471112811980:runtime/IDPagent-1fcZqaBeRk\n",
      "Built with CodeBuild: bedrock-agentcore-IDPagent-builder:bd4536c3-e2fe-4897-98b4-7a4cddfd1958\n",
      "Deployed to cloud: arn:aws:bedrock-agentcore:us-east-1:471112811980:runtime/IDPagent-1fcZqaBeRk\n",
      "ECR image: 471112811980.dkr.ecr.us-east-1.amazonaws.com/bedrock-agentcore-IDPagent\n",
      "🔍 Agent logs available at:\n",
      "   /aws/bedrock-agentcore/runtimes/IDPagent-1fcZqaBeRk-DEFAULT\n",
      "   /aws/bedrock-agentcore/runtimes/IDPagent-1fcZqaBeRk-DEFAULT/runtime-logs\n",
      "💡 Tail logs with: aws logs tail /aws/bedrock-agentcore/runtimes/IDPagent-1fcZqaBeRk-DEFAULT --follow\n",
      "💡 Or view recent logs: aws logs tail /aws/bedrock-agentcore/runtimes/IDPagent-1fcZqaBeRk-DEFAULT --since 1h\n"
     ]
    },
    {
     "name": "stdout",
     "output_type": "stream",
     "text": [
      "\n",
      "✅ Launch completed successfully!\n",
      "Agent ARN: arn:aws:bedrock-agentcore:us-east-1:471112811980:runtime/IDPagent-1fcZqaBeRk\n",
      "Agent ID: IDPagent-1fcZqaBeRk\n"
     ]
    }
   ],
   "source": [
    "print(\"🚀 Launching IDP with Amazon Bedrock MCP Server to AgentCore Runtime...\")\n",
    "print(\"=\" * 60)\n",
    "print(\"⏳ This may take several minutes...\")\n",
    "\n",
    "# Launch the MCP server\n",
    "launch_result = agentcore_runtime.launch()\n",
    "\n",
    "print(\"\\n✅ Launch completed successfully!\")\n",
    "print(f\"Agent ARN: {launch_result.agent_arn}\")\n",
    "print(f\"Agent ID: {launch_result.agent_id}\")\n",
    "\n",
    "# Store the results for later use\n",
    "agent_arn = launch_result.agent_arn\n",
    "agent_id = launch_result.agent_id"
   ]
  },
  {
   "cell_type": "markdown",
   "metadata": {},
   "source": [
    "## Step 8: Wait for Deployment to Complete\n",
    "\n",
    "Monitor the deployment status and wait for it to be ready."
   ]
  },
  {
   "cell_type": "code",
   "execution_count": 9,
   "metadata": {},
   "outputs": [
    {
     "name": "stdout",
     "output_type": "stream",
     "text": [
      "⏳ Checking AgentCore Runtime deployment status...\n",
      "============================================================\n"
     ]
    },
    {
     "name": "stderr",
     "output_type": "stream",
     "text": [
      "Retrieved Bedrock AgentCore status for: IDPagent\n"
     ]
    },
    {
     "name": "stdout",
     "output_type": "stream",
     "text": [
      "Initial status: READY\n",
      "\n",
      "🎉 AgentCore Runtime is READY!\n",
      "✅ IDP with Amazon Bedrock MCP Server deployed successfully!\n",
      "\n",
      "Final status: READY\n"
     ]
    }
   ],
   "source": [
    "print(\"⏳ Checking AgentCore Runtime deployment status...\")\n",
    "print(\"=\" * 60)\n",
    "\n",
    "# Check initial status\n",
    "status_response = agentcore_runtime.status()\n",
    "status = status_response.endpoint[\"status\"]\n",
    "print(f\"Initial status: {status}\")\n",
    "\n",
    "# Wait for completion\n",
    "end_status = [\"READY\", \"CREATE_FAILED\", \"DELETE_FAILED\", \"UPDATE_FAILED\"]\n",
    "while status not in end_status:\n",
    "    print(f\"Status: {status} - waiting...\")\n",
    "    time.sleep(30)  # Check every 30 seconds\n",
    "    status_response = agentcore_runtime.status()\n",
    "    status = status_response.endpoint[\"status\"]\n",
    "\n",
    "if status == \"READY\":\n",
    "    print(\"\\n🎉 AgentCore Runtime is READY!\")\n",
    "    print(\"✅ IDP with Amazon Bedrock MCP Server deployed successfully!\")\n",
    "else:\n",
    "    print(f\"\\n⚠️  AgentCore Runtime status: {status}\")\n",
    "    if status in [\"CREATE_FAILED\", \"UPDATE_FAILED\"]:\n",
    "        print(\"❌ Deployment failed. Check CloudWatch logs for details.\")\n",
    "\n",
    "print(f\"\\nFinal status: {status}\")"
   ]
  },
  {
   "cell_type": "markdown",
   "metadata": {},
   "source": [
    "## Step 9: Store Configuration for Remote Access\n",
    "\n",
    "Store the deployment configuration in AWS Systems Manager and Secrets Manager for easy access by MCP clients."
   ]
  },
  {
   "cell_type": "code",
   "execution_count": 10,
   "metadata": {},
   "outputs": [
    {
     "name": "stdout",
     "output_type": "stream",
     "text": [
      "💾 Storing MCP configuration for remote access...\n",
      "============================================================\n",
      "✅ Agent ARN stored in Parameter Store\n",
      "✅ MCP credentials updated in Secrets Manager\n",
      "\n",
      "✅ Configuration stored successfully!\n",
      "\n",
      "📋 Deployment Summary:\n",
      "========================================\n",
      "Agent ARN: arn:aws:bedrock-agentcore:us-east-1:471112811980:runtime/IDPagent-1fcZqaBeRk\n",
      "Agent ID: IDPagent-1fcZqaBeRk\n",
      "MCP User: egorkr@amazon.co.uk\n",
      "Cognito Client ID: 3g145h569975hdcg68onjeo42h\n",
      "State Machine: arn:aws:states:us-east-1:471112811980:stateMachine:idp-bedrock-StepFunctions\n",
      "S3 Bucket: idp-bedrock-data-471112811980\n",
      "\n",
      "🔗 Access Information:\n",
      "Parameter Store: /IDP-mcp/runtime/agent_arn\n",
      "Secrets Manager: IDP-mcp/cognito/credentials\n"
     ]
    }
   ],
   "source": [
    "print(\"💾 Storing MCP configuration for remote access...\")\n",
    "print(\"=\" * 60)\n",
    "\n",
    "# Store configuration\n",
    "config_stored = store_mcp_configuration(\n",
    "    agent_arn=agent_arn, cognito_config=cognito_config, mcp_user_config=mcp_user_config\n",
    ")\n",
    "\n",
    "if config_stored:\n",
    "    print(\"\\n✅ Configuration stored successfully!\")\n",
    "    print(\"\\n📋 Deployment Summary:\")\n",
    "    print(\"=\" * 40)\n",
    "    print(f\"Agent ARN: {agent_arn}\")\n",
    "    print(f\"Agent ID: {agent_id}\")\n",
    "    print(f\"MCP User: {mcp_user_config['username']}\")\n",
    "    print(f\"Cognito Client ID: {cognito_config['client_id']}\")\n",
    "    print(f\"State Machine: {infra_config['state_machine_arn']}\")\n",
    "    print(f\"S3 Bucket: {infra_config['bucket_name']}\")\n",
    "    print(\"\\n🔗 Access Information:\")\n",
    "    print(\"Parameter Store: /IDP-mcp/runtime/agent_arn\")\n",
    "    print(\"Secrets Manager: IDP-mcp/cognito/credentials\")\n",
    "else:\n",
    "    print(\"❌ Failed to store configuration\")"
   ]
  },
  {
   "cell_type": "markdown",
   "metadata": {},
   "source": [
    "## Step 10: Create Remote Testing Client\n",
    "\n",
    "Create a client script that can connect to the deployed MCP server for testing."
   ]
  },
  {
   "cell_type": "markdown",
   "metadata": {},
   "source": [
    "## Step 11: Test the Deployed MCP Server\n",
    "\n",
    "Let's test our deployed MCP server to make sure everything is working correctly."
   ]
  },
  {
   "cell_type": "code",
   "execution_count": 13,
   "metadata": {},
   "outputs": [
    {
     "name": "stdout",
     "output_type": "stream",
     "text": [
      "🧪 Testing the deployed IDP with Amazon Bedrock MCP Server...\n",
      "============================================================\n",
      "🔍 Testing deployed IDP with Amazon Bedrock MCP Server in {region}...\n",
      "============================================================\n",
      "✅ Retrieved Agent ARN: arn:aws:bedrock-agentcore:us-east-1:471112811980:runtime/IDPagent-1fcZqaBeRk\n",
      "✅ Retrieved bearer token\n",
      "\n",
      "🔗 Connecting to: https://bedrock-agentcore.us-east-1.amazonaws.com/runtimes/arn%3Aaws%3Abedrock-agentcore%3Aus-east-1%3A471112811980%3Aruntime%2FIDPagent-1fcZqaBeRk/invocations?qualifier=DEFAULT\n",
      "\n",
      "🔄 Initializing MCP session...\n",
      "✅ MCP session initialized\n",
      "\n",
      "🔄 Listing available tools...\n",
      "\n",
      "📋 Available IDP with Amazon Bedrock MCP Tools:\n",
      "==================================================\n",
      "🔧 extract_document_attributes\n",
      "   Description: \n",
      "Extract custom attributes from documents using Amazon Bedrock and AWS document processing services.\n",
      "\n",
      "This tool processes documents (text, PDF, images, Office files) and extracts specified attributes\n",
      "using large language models. It supports various parsing modes and can handle batch processing.\n",
      "\n",
      "Args:\n",
      "    documents: List of document paths/keys in S3 (e.g., [\"originals/email_1.txt\", \"originals/doc.pdf\"])\n",
      "    attributes: List of attribute definitions, each containing:\n",
      "        - name: str - Name of the attribute (e.g., \"customer_name\")\n",
      "        - description: str - Description of what to extract\n",
      "        - type: str (optional) - \"auto\", \"character\", \"number\", or \"true/false\"\n",
      "    parsing_mode: str - \"Amazon Textract\", \"Amazon Bedrock LLM\", or \"Bedrock Data Automation\"\n",
      "    instructions: str - Optional high-level instructions for extraction\n",
      "    few_shots: List of example input/output pairs for few-shot learning\n",
      "    model_params: Dict with model configuration:\n",
      "        - model_id: str - Bedrock model ID to use\n",
      "        - output_length: int - Maximum output length\n",
      "        - temperature: float - Model temperature (0.0-1.0)\n",
      "\n",
      "Returns:\n",
      "    List of results, each containing:\n",
      "        - file_key: str - The document that was processed\n",
      "        - attributes: Dict - Extracted attributes as key-value pairs\n",
      "\n",
      "Example:\n",
      "    extract_document_attributes(\n",
      "        documents=[\"originals/email_1.txt\"],\n",
      "        attributes=[\n",
      "            {\"name\": \"customer_name\", \"description\": \"name of the customer who wrote the email\"},\n",
      "            {\"name\": \"sentiment\", \"description\": \"sentiment score between 0 and 1\"}\n",
      "        ]\n",
      "    )\n",
      "\n",
      "\n",
      "🔧 get_extraction_status\n",
      "   Description: \n",
      "Check the status of a document attribute extraction operation.\n",
      "\n",
      "Args:\n",
      "    execution_arn: The ARN of the Step Functions execution to check\n",
      "    \n",
      "Returns:\n",
      "    Dict containing:\n",
      "        - status: str - \"RUNNING\", \"SUCCEEDED\", \"FAILED\", etc.\n",
      "        - results: List - Results if completed successfully\n",
      "        - error: str - Error message if failed\n",
      "\n",
      "\n",
      "🔧 list_supported_models\n",
      "   Description: \n",
      "Get the list of supported Amazon Bedrock models for document attribute extraction.\n",
      "\n",
      "Returns:\n",
      "    Dict containing:\n",
      "        - models: List of supported model IDs\n",
      "        - default_model: The default model used if none specified\n",
      "        - model_info: Additional information about model capabilities\n",
      "\n",
      "\n",
      "🔧 get_bucket_info\n",
      "   Description: \n",
      "Get information about the S3 bucket used for document storage.\n",
      "\n",
      "Returns:\n",
      "    Dict containing bucket name and usage instructions\n",
      "\n",
      "\n",
      "🧪 Testing MCP Tools:\n",
      "==================================================\n",
      "\n",
      "➡️  Testing list_supported_models...\n",
      "   ✅ Result: {\n",
      "  \"models\": [\n",
      "    \"us.anthropic.claude-3-7-sonnet-20250219-v1:0\",\n",
      "    \"us.anthropic.claude-3-5-sonnet-20241022-v2:0\",\n",
      "    \"us.anthropic.claude-3-haiku-20240307-v1:0\",\n",
      "    \"us.amazon.nova-premier-v1:0\",\n",
      "    \"us.amazon.nova-pro-v1:0\",\n",
      "    \"us.amazon.nova-lite-v1:0\"\n",
      "  ],\n",
      "  \"default_model\": \"us.anthropic.claude-3-haiku-20240307-v1:0\",\n",
      "  \"model_info\": {\n",
      "    \"claude_models\": [\n",
      "      \"us.anthropic.claude-3-7-sonnet-20250219-v1:0\",\n",
      "      \"us.anthropic.claude-3-5-sonnet-20241022-v2:0\",\n",
      "      \"us.anthropic.claude-3-haiku-20240307-v1:0\"\n",
      "    ],\n",
      "    \"nova_models\": [\n",
      "      \"us.amazon.nova-premier-v1:0\",\n",
      "      \"us.amazon.nova-pro-v1:0\",\n",
      "      \"us.amazon.nova-lite-v1:0\"\n",
      "    ],\n",
      "    \"recommended_for_speed\": \"us.anthropic.claude-3-haiku-20240307-v1:0\",\n",
      "    \"recommended_for_quality\": \"us.anthropic.claude-3-7-sonnet-20250219-v1:0\"\n",
      "  }\n",
      "}\n",
      "\n",
      "➡️  Testing get_bucket_info...\n",
      "   ✅ Result: {\n",
      "  \"bucket_name\": \"idp-bedrock-data-471112811980\",\n",
      "  \"usage\": \"Upload documents to this S3 bucket before processing\",\n",
      "  \"supported_formats\": [\n",
      "    \"Text files: .txt\",\n",
      "    \"PDF files: .pdf\",\n",
      "    \"Images: .jpg, .jpeg, .png\",\n",
      "    \"Office files: .doc, .docx, .ppt, .pptx, .xls, .xlsx\",\n",
      "    \"Web files: .html, .htm, .md, .csv\"\n",
      "  ]\n",
      "}\n",
      "\n",
      "🎉 IDP with Amazon Bedrock MCP Server testing completed successfully!\n",
      "✅ Found 4 tools available.\n"
     ]
    }
   ],
   "source": [
    "print(\"🧪 Testing the deployed IDP with Amazon Bedrock MCP Server...\")\n",
    "print(\"=\" * 60)\n",
    "\n",
    "# Run the remote test client\n",
    "!python test_client_remote.py"
   ]
  },
  {
   "cell_type": "code",
   "execution_count": 16,
   "metadata": {},
   "outputs": [
    {
     "name": "stdout",
     "output_type": "stream",
     "text": [
      "🚀 IDP with Amazon Bedrock MCP Server Demo Document Test\n",
      "This script tests document attribute extraction using email_1.txt\n",
      "\n",
      "🧪 Testing IDP with Amazon Bedrock MCP Server with demo document...\n",
      "============================================================\n",
      "✅ Retrieved Agent ARN: arn:aws:bedrock-agentcore:us-east-1:471112811980:runtime/IDPagent-1fcZqaBeRk\n",
      "✅ Retrieved bearer token\n",
      "\n",
      "🔗 Connecting to MCP server...\n",
      "🔄 Initializing MCP session...\n",
      "✅ MCP session initialized\n",
      "\n",
      "📋 Testing with demo document: originals/email_1.txt\n",
      "==================================================\n",
      "➡️  Extracting attributes from email_1.txt...\n",
      "✅ Extraction completed!\n",
      "\n",
      "📊 Results for 1 document(s):\n",
      "----------------------------------------\n",
      "📄 Document: processed/email_1.txt\n",
      "   Extracted attributes:\n",
      "   • customer_name: John Smith\n",
      "   • sentiment: negative\n",
      "   • urgency: medium\n",
      "   • main_topic: checking shipment status\n",
      "\n",
      "\n",
      "🔧 Testing other MCP tools:\n",
      "========================================\n",
      "➡️  Getting supported models...\n",
      "✅ Found 6 supported models\n",
      "   Default model: us.anthropic.claude-3-haiku-20240307-v1:0\n",
      "\n",
      "➡️  Getting bucket information...\n",
      "✅ S3 Bucket: idp-bedrock-data-471112811980\n",
      "   Supported formats: 5 types\n",
      "\n",
      "🎉 Demo document testing completed successfully!\n",
      "✅ The IDP with Amazon Bedrock MCP Server is working correctly with real documents!\n"
     ]
    }
   ],
   "source": [
    "!python test_with_demo_document.py"
   ]
  },
  {
   "cell_type": "markdown",
   "metadata": {},
   "source": [
    "## 🎉 Deployment Complete!\n",
    "\n",
    "Your IDP with Amazon Bedrock MCP Server has been successfully deployed to Amazon Bedrock AgentCore Runtime!\n",
    "\n",
    "### What's Available\n",
    "\n",
    "✅ **MCP Server**: Deployed and running on AgentCore Runtime  \n",
    "✅ **Authentication**: Integrated with existing Cognito user pool  \n",
    "✅ **Tools**: 4 MCP tools for document attribute extraction  \n",
    "✅ **Infrastructure**: Reuses existing Step Functions and S3 bucket  \n",
    "✅ **Testing**: Remote client for validation  \n",
    "\n",
    "### MCP Tools Available\n",
    "\n",
    "1. **`extract_document_attributes`**: Extract custom attributes from documents\n",
    "2. **`get_extraction_status`**: Check status of extraction operations\n",
    "3. **`list_supported_models`**: Get available Bedrock models\n",
    "4. **`get_bucket_info`**: S3 bucket information and supported formats\n",
    "\n",
    "### Next Steps\n",
    "\n",
    "- Use `test_client_remote.py` to test the MCP server\n",
    "- Integrate with MCP-compatible clients (Claude, other AI agents)\n",
    "- Upload documents to the S3 bucket for processing\n",
    "- Monitor usage through CloudWatch logs\n",
    "\n",
    "### Configuration Storage\n",
    "\n",
    "- **Agent ARN**: Stored in Parameter Store at `/IDP-mcp/runtime/agent_arn`\n",
    "- **Credentials**: Stored in Secrets Manager at `IDP-mcp/cognito/credentials`\n",
    "\n",
    "The MCP server is now ready for production use! 🚀"
   ]
  }
 ],
 "metadata": {
  "kernelspec": {
   "display_name": "Python (IDP)",
   "language": "python",
   "name": "IDP-env"
  },
  "language_info": {
   "codemirror_mode": {
    "name": "ipython",
    "version": 3
   },
   "file_extension": ".py",
   "mimetype": "text/x-python",
   "name": "python",
   "nbconvert_exporter": "python",
   "pygments_lexer": "ipython3",
   "version": "3.13.3"
  }
 },
 "nbformat": 4,
 "nbformat_minor": 4
}
